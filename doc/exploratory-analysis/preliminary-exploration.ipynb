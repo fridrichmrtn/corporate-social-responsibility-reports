{
 "cells": [
  {
   "cell_type": "markdown",
   "metadata": {},
   "source": [
    "# Preliminary data exploration"
   ]
  },
  {
   "cell_type": "markdown",
   "metadata": {},
   "source": [
    "## Housekeepin’"
   ]
  },
  {
   "cell_type": "code",
   "execution_count": 13,
   "metadata": {},
   "outputs": [
    {
     "data": {
      "text/html": [
       "<div>\n",
       "<style scoped>\n",
       "    .dataframe tbody tr th:only-of-type {\n",
       "        vertical-align: middle;\n",
       "    }\n",
       "\n",
       "    .dataframe tbody tr th {\n",
       "        vertical-align: top;\n",
       "    }\n",
       "\n",
       "    .dataframe thead th {\n",
       "        text-align: right;\n",
       "    }\n",
       "</style>\n",
       "<table border=\"1\" class=\"dataframe\">\n",
       "  <thead>\n",
       "    <tr style=\"text-align: right;\">\n",
       "      <th></th>\n",
       "      <th>Participant</th>\n",
       "      <th>Sector</th>\n",
       "      <th>Country</th>\n",
       "      <th>Year</th>\n",
       "      <th>Language</th>\n",
       "      <th>Link</th>\n",
       "      <th>EconomyType</th>\n",
       "      <th>FileType</th>\n",
       "      <th>FileName</th>\n",
       "      <th>FileTypeMagic</th>\n",
       "      <th>ConversionStatus</th>\n",
       "      <th>ConvertedFileName</th>\n",
       "      <th>OCRStatus</th>\n",
       "      <th>OutputText</th>\n",
       "      <th>OutputFileName</th>\n",
       "    </tr>\n",
       "  </thead>\n",
       "  <tbody>\n",
       "    <tr>\n",
       "      <th>0</th>\n",
       "      <td>AGNI MOTORS</td>\n",
       "      <td>Electronic &amp; Electrical Equ...</td>\n",
       "      <td>India</td>\n",
       "      <td>2019</td>\n",
       "      <td>english</td>\n",
       "      <td>https://ungc-production.s3.us-west-2.amazonaws...</td>\n",
       "      <td>Developing</td>\n",
       "      <td>pdf</td>\n",
       "      <td>0000-2019-agni-motors.pdf</td>\n",
       "      <td>application/pdf</td>\n",
       "      <td>NaN</td>\n",
       "      <td>0000-2019-agni-motors.pdf</td>\n",
       "      <td>0</td>\n",
       "      <td>® AGNI MOTORS ay AN ISO 9001 : 2008 COMPANY Ag...</td>\n",
       "      <td>../../data/text-reports/0000-2019-agni-motors.txt</td>\n",
       "    </tr>\n",
       "    <tr>\n",
       "      <th>1</th>\n",
       "      <td>AMBEV S/A</td>\n",
       "      <td>Beverages</td>\n",
       "      <td>Brazil</td>\n",
       "      <td>2019</td>\n",
       "      <td>english</td>\n",
       "      <td>https://ungc-production.s3.us-west-2.amazonaws...</td>\n",
       "      <td>Developing</td>\n",
       "      <td>pdf</td>\n",
       "      <td>0001-2019-ambev-s-a.pdf</td>\n",
       "      <td>application/pdf</td>\n",
       "      <td>NaN</td>\n",
       "      <td>0001-2019-ambev-s-a.pdf</td>\n",
       "      <td>0</td>\n",
       "      <td>SUSTAINABILITY REPORT 2018 “= ( a .) ‘J ambev ...</td>\n",
       "      <td>../../data/text-reports/0001-2019-ambev-s-a.txt</td>\n",
       "    </tr>\n",
       "    <tr>\n",
       "      <th>2</th>\n",
       "      <td>Access Spectrum Company Limited</td>\n",
       "      <td>Technology Hardware &amp; Equip...</td>\n",
       "      <td>Myanmar</td>\n",
       "      <td>2019</td>\n",
       "      <td>english</td>\n",
       "      <td>https://ungc-production.s3.us-west-2.amazonaws...</td>\n",
       "      <td>Developing</td>\n",
       "      <td>pdf</td>\n",
       "      <td>0002-2019-access-spectrum-company-limited.pdf</td>\n",
       "      <td>application/pdf</td>\n",
       "      <td>NaN</td>\n",
       "      <td>0002-2019-access-spectrum-company-limited.pdf</td>\n",
       "      <td>0</td>\n",
       "      <td>H.E. ANTONIO GUTERRES  Secretary General  Unit...</td>\n",
       "      <td>../../data/text-reports/0002-2019-access-spect...</td>\n",
       "    </tr>\n",
       "  </tbody>\n",
       "</table>\n",
       "</div>"
      ],
      "text/plain": [
       "                       Participant                          Sector  Country  \\\n",
       "0                      AGNI MOTORS  Electronic & Electrical Equ...    India   \n",
       "1                        AMBEV S/A                       Beverages   Brazil   \n",
       "2  Access Spectrum Company Limited  Technology Hardware & Equip...  Myanmar   \n",
       "\n",
       "   Year Language                                               Link  \\\n",
       "0  2019  english  https://ungc-production.s3.us-west-2.amazonaws...   \n",
       "1  2019  english  https://ungc-production.s3.us-west-2.amazonaws...   \n",
       "2  2019  english  https://ungc-production.s3.us-west-2.amazonaws...   \n",
       "\n",
       "  EconomyType FileType                                       FileName  \\\n",
       "0  Developing      pdf                      0000-2019-agni-motors.pdf   \n",
       "1  Developing      pdf                        0001-2019-ambev-s-a.pdf   \n",
       "2  Developing      pdf  0002-2019-access-spectrum-company-limited.pdf   \n",
       "\n",
       "     FileTypeMagic ConversionStatus  \\\n",
       "0  application/pdf              NaN   \n",
       "1  application/pdf              NaN   \n",
       "2  application/pdf              NaN   \n",
       "\n",
       "                               ConvertedFileName OCRStatus  \\\n",
       "0                      0000-2019-agni-motors.pdf         0   \n",
       "1                        0001-2019-ambev-s-a.pdf         0   \n",
       "2  0002-2019-access-spectrum-company-limited.pdf         0   \n",
       "\n",
       "                                          OutputText  \\\n",
       "0  ® AGNI MOTORS ay AN ISO 9001 : 2008 COMPANY Ag...   \n",
       "1  SUSTAINABILITY REPORT 2018 “= ( a .) ‘J ambev ...   \n",
       "2  H.E. ANTONIO GUTERRES  Secretary General  Unit...   \n",
       "\n",
       "                                      OutputFileName  \n",
       "0  ../../data/text-reports/0000-2019-agni-motors.txt  \n",
       "1    ../../data/text-reports/0001-2019-ambev-s-a.txt  \n",
       "2  ../../data/text-reports/0002-2019-access-spect...  "
      ]
     },
     "execution_count": 13,
     "metadata": {},
     "output_type": "execute_result"
    }
   ],
   "source": [
    "import numpy as np\n",
    "import pandas as pd\n",
    "import matplotlib.pyplot as plt\n",
    "\n",
    "# docs\n",
    "docs = pd.read_csv(\"../../data/texts-processed.csv\")\n",
    "docs.head(3)"
   ]
  },
  {
   "cell_type": "code",
   "execution_count": 14,
   "metadata": {},
   "outputs": [
    {
     "data": {
      "text/plain": [
       "501"
      ]
     },
     "metadata": {},
     "output_type": "display_data"
    },
    {
     "data": {
      "text/plain": [
       "1"
      ]
     },
     "metadata": {},
     "output_type": "display_data"
    }
   ],
   "source": [
    "display(docs.shape[0])\n",
    "display(docs.OutputText.isnull().sum())\n",
    "docs = docs[docs.OutputText.notnull()]"
   ]
  },
  {
   "cell_type": "code",
   "execution_count": 15,
   "metadata": {},
   "outputs": [
    {
     "data": {
      "text/plain": [
       "2020    351\n",
       "2019    149\n",
       "Name: Year, dtype: int64"
      ]
     },
     "execution_count": 15,
     "metadata": {},
     "output_type": "execute_result"
    }
   ],
   "source": [
    "docs.Year.value_counts()"
   ]
  },
  {
   "cell_type": "code",
   "execution_count": 16,
   "metadata": {},
   "outputs": [
    {
     "data": {
      "image/png": "[encoded data removed]",
      "text/plain": [
       "<Figure size 1080x504 with 2 Axes>"
      ]
     },
     "metadata": {
      "needs_background": "light"
     },
     "output_type": "display_data"
    }
   ],
   "source": [
    "f, axs = plt.subplots(1,2,figsize=(15,7))\n",
    "dims = [\"Country\", \"EconomyType\"]\n",
    "for i,ax in enumerate(axs):\n",
    "    dim = dims[i]\n",
    "    docs_augmented[dim].value_counts().\\\n",
    "        sort_values().tail(25).plot(kind=\"barh\", ax=ax);\n",
    "    ax.set_xlabel(\"frequency\");\n",
    "f.tight_layout();    "
   ]
  },
  {
   "cell_type": "code",
   "execution_count": 17,
   "metadata": {},
   "outputs": [
    {
     "data": {
      "image/png": "[encoded data removed]",
      "text/plain": [
       "<Figure size 504x504 with 1 Axes>"
      ]
     },
     "metadata": {
      "needs_background": "light"
     },
     "output_type": "display_data"
    }
   ],
   "source": [
    "f, ax = plt.subplots(1,1,figsize=(7,7))\n",
    "docs_augmented.groupby(\"Sector\").Participant.count().\\\n",
    "    sort_values().tail(25).plot(kind=\"barh\", ax=ax);\n",
    "ax.set_ylabel(\"sector\");\n",
    "ax.set_xlabel(\"frequency\"); "
   ]
  },
  {
   "cell_type": "code",
   "execution_count": 18,
   "metadata": {},
   "outputs": [
    {
     "data": {
      "text/plain": [
       "1.0309278350515463"
      ]
     },
     "execution_count": 18,
     "metadata": {},
     "output_type": "execute_result"
    }
   ],
   "source": [
    "# avg documents per participant, possible concat?\n",
    "docs_augmented.Participant.value_counts().mean()"
   ]
  },
  {
   "cell_type": "markdown",
   "metadata": {},
   "source": [
    "## Texts"
   ]
  },
  {
   "cell_type": "code",
   "execution_count": 19,
   "metadata": {},
   "outputs": [],
   "source": [
    "def purge_chars(text):\n",
    "    import re\n",
    "    \n",
    "    text = text.lower()\n",
    "    text = re.sub(r\"<.*?>|</.*?>\",\"\",text)\n",
    "    text = re.sub(r\"(s?)(f|ht)tp(s?)://\\S+\\b\",\"\",text)\n",
    "    text = re.sub(r\"^[a-z0-9]+[\\._]?[a-z0-9]+[@]\\w+[.]\\w{2,3}$\",\"\", text) #email\n",
    "    text = re.sub(r\"\\\\-\",\"\", text)\n",
    "    text = re.sub(\"[^a-z '.,?!:]\",\" \",text)\n",
    "    text = re.sub(r\"\\b(\\w+\\s*)\\1{1,}\", \" \",text) #dupli \"\\\\1\"\n",
    "    return re.sub(r\" +\",\" \",text)\n",
    "\n",
    "docs_augmented[\"OutputChars\"] = docs_augmented.apply(lambda x: purge_chars(x.OutputText), axis=1)    "
   ]
  },
  {
   "cell_type": "code",
   "execution_count": 20,
   "metadata": {},
   "outputs": [
    {
     "name": "stderr",
     "output_type": "stream",
     "text": [
      "Warning : `load_model` does not return WordVectorModel or SupervisedModel any more, but a `FastText` object which is very similar.\n"
     ]
    }
   ],
   "source": [
    "# chars, no of tokens, no of sentences, languages\n",
    "import fasttext as fs\n",
    "ftm = fs.load_model(\"../../data/lid.176.bin\")\n",
    "def get_characteristics(df, ftm=ftm):\n",
    "    import re\n",
    "    import pandas as pd\n",
    "    string = df.OutputChars\n",
    "    df[\"n_chars\"] = len(string)\n",
    "    df[\"n_words\"] = len(re.split(\"\\w+\",string))\n",
    "    df[\"n_sents\"] = len(re.split(\"[.!?]\", string))\n",
    "    lest = ftm.predict(string, k=1)\n",
    "    df[\"lang_est\"] = lest[0][0].split(\"_\")[-1]\n",
    "    df[\"lang_est_conf\"] = lest[1][0]\n",
    "    return df\n",
    "docs_augmented = docs_augmented.apply(get_characteristics, axis=1)    "
   ]
  },
  {
   "cell_type": "code",
   "execution_count": 21,
   "metadata": {},
   "outputs": [
    {
     "data": {
      "text/plain": [
       "count       500.000000\n",
       "mean      11598.104000\n",
       "std       16653.455935\n",
       "min          35.000000\n",
       "25%        1905.000000\n",
       "50%        4818.000000\n",
       "75%       14526.750000\n",
       "max      111601.000000\n",
       "Name: n_words, dtype: float64"
      ]
     },
     "execution_count": 21,
     "metadata": {},
     "output_type": "execute_result"
    }
   ],
   "source": [
    "docs_augmented.n_words.describe()"
   ]
  },
  {
   "cell_type": "code",
   "execution_count": 22,
   "metadata": {},
   "outputs": [
    {
     "data": {
      "image/png": "[encoded data removed]",
      "text/plain": [
       "<Figure size 360x360 with 1 Axes>"
      ]
     },
     "metadata": {
      "needs_background": "light"
     },
     "output_type": "display_data"
    }
   ],
   "source": [
    "f, ax = plt.subplots(1,1,figsize=(5,5))\n",
    "docs_augmented.groupby(\"lang_est\").Participant.count().\\\n",
    "    sort_values().tail(25).plot(kind=\"barh\", ax=ax, logx=True);\n",
    "ax.set_ylabel(\"languages\");\n",
    "ax.set_xlabel(\"frequency\"); "
   ]
  },
  {
   "cell_type": "code",
   "execution_count": 23,
   "metadata": {},
   "outputs": [
    {
     "data": {
      "image/png": "[encoded data removed]",
      "text/plain": [
       "<Figure size 1080x360 with 3 Axes>"
      ]
     },
     "metadata": {
      "needs_background": "light"
     },
     "output_type": "display_data"
    }
   ],
   "source": [
    "# plot it\n",
    "f, axs = plt.subplots(1,3,figsize=(15,5))\n",
    "counts = {\"n_chars\":\"no characters\", \"n_words\":\"no words\", \"n_sents\":\"no senteces\"}\n",
    "for c, ax in zip(counts.keys(), axs.flatten()):\n",
    "    docs_augmented[c].plot(kind=\"hist\", ax=ax, rot=90);\n",
    "    ax.set_ylabel(\"frequency\");\n",
    "    ax.set_xlabel(counts[c]);\n",
    "f.tight_layout();"
   ]
  },
  {
   "cell_type": "code",
   "execution_count": 24,
   "metadata": {},
   "outputs": [],
   "source": [
    "docs_augmented = docs_augmented[(docs_augmented.lang_est==\"en\") & (docs_augmented.lang_est_conf>0.8) & (docs_augmented.n_chars>=1000)]"
   ]
  },
  {
   "cell_type": "code",
   "execution_count": 47,
   "metadata": {},
   "outputs": [
    {
     "data": {
      "text/html": [
       "<div>\n",
       "<style scoped>\n",
       "    .dataframe tbody tr th:only-of-type {\n",
       "        vertical-align: middle;\n",
       "    }\n",
       "\n",
       "    .dataframe tbody tr th {\n",
       "        vertical-align: top;\n",
       "    }\n",
       "\n",
       "    .dataframe thead th {\n",
       "        text-align: right;\n",
       "    }\n",
       "</style>\n",
       "<table border=\"1\" class=\"dataframe\">\n",
       "  <thead>\n",
       "    <tr style=\"text-align: right;\">\n",
       "      <th></th>\n",
       "      <th>f</th>\n",
       "      <th>t</th>\n",
       "      <th>fn</th>\n",
       "      <th>tn</th>\n",
       "      <th>ft</th>\n",
       "      <th>tt</th>\n",
       "      <th>similarity</th>\n",
       "    </tr>\n",
       "  </thead>\n",
       "  <tbody>\n",
       "    <tr>\n",
       "      <th>14</th>\n",
       "      <td>451</td>\n",
       "      <td>20</td>\n",
       "      <td>Biotage AB</td>\n",
       "      <td>Biotage AB</td>\n",
       "      <td>communication on progress biotage statement of...</td>\n",
       "      <td>s , biotage in brief message from the ceo r s...</td>\n",
       "      <td>0.973121</td>\n",
       "    </tr>\n",
       "    <tr>\n",
       "      <th>5</th>\n",
       "      <td>251</td>\n",
       "      <td>4</td>\n",
       "      <td>Ahlsell AB</td>\n",
       "      <td>Ahlsell AB</td>\n",
       "      <td>ie . j pie . ute was eo te f i rt 's f fl ay ...</td>\n",
       "      <td>code of conduct owner: approved by: approval d...</td>\n",
       "      <td>0.977674</td>\n",
       "    </tr>\n",
       "    <tr>\n",
       "      <th>11</th>\n",
       "      <td>436</td>\n",
       "      <td>435</td>\n",
       "      <td>Bens Electronics Services Ltd</td>\n",
       "      <td>Bens Electronics Services Ltd</td>\n",
       "      <td>bens electronics services og statement of comm...</td>\n",
       "      <td>r vf a . pe on progress p vf j, a of statement...</td>\n",
       "      <td>0.996091</td>\n",
       "    </tr>\n",
       "    <tr>\n",
       "      <th>4</th>\n",
       "      <td>233</td>\n",
       "      <td>232</td>\n",
       "      <td>Advanced Labelworx, Inc.</td>\n",
       "      <td>Advanced Labelworx, Inc.</td>\n",
       "      <td>advanced labelworx, inc. global compact commun...</td>\n",
       "      <td>advanced labelworx, inc. global compact commun...</td>\n",
       "      <td>0.996541</td>\n",
       "    </tr>\n",
       "    <tr>\n",
       "      <th>1</th>\n",
       "      <td>187</td>\n",
       "      <td>1</td>\n",
       "      <td>AMBEV S/A</td>\n",
       "      <td>AMBEV S/A</td>\n",
       "      <td>sustainability report . a powmttiun : ns : a ...</td>\n",
       "      <td>sustainability report a . j ambev : f a we ell...</td>\n",
       "      <td>0.997882</td>\n",
       "    </tr>\n",
       "  </tbody>\n",
       "</table>\n",
       "</div>"
      ],
      "text/plain": [
       "      f    t                             fn                             tn  \\\n",
       "14  451   20                     Biotage AB                     Biotage AB   \n",
       "5   251    4                     Ahlsell AB                     Ahlsell AB   \n",
       "11  436  435  Bens Electronics Services Ltd  Bens Electronics Services Ltd   \n",
       "4   233  232       Advanced Labelworx, Inc.       Advanced Labelworx, Inc.   \n",
       "1   187    1                      AMBEV S/A                      AMBEV S/A   \n",
       "\n",
       "                                                   ft  \\\n",
       "14  communication on progress biotage statement of...   \n",
       "5    ie . j pie . ute was eo te f i rt 's f fl ay ...   \n",
       "11  bens electronics services og statement of comm...   \n",
       "4   advanced labelworx, inc. global compact commun...   \n",
       "1    sustainability report . a powmttiun : ns : a ...   \n",
       "\n",
       "                                                   tt  similarity  \n",
       "14   s , biotage in brief message from the ceo r s...    0.973121  \n",
       "5   code of conduct owner: approved by: approval d...    0.977674  \n",
       "11  r vf a . pe on progress p vf j, a of statement...    0.996091  \n",
       "4   advanced labelworx, inc. global compact commun...    0.996541  \n",
       "1   sustainability report a . j ambev : f a we ell...    0.997882  "
      ]
     },
     "execution_count": 47,
     "metadata": {},
     "output_type": "execute_result"
    }
   ],
   "source": [
    "# duplicate cleanup using vector embeddings\n",
    "def get_sim(row):\n",
    "    import spacy\n",
    "    #spacy.require_gpu()\n",
    "    nlp =  spacy.load(\"en_core_web_lg\")\n",
    "    #nlp.max_length = 1000000\n",
    "    d1, d2 = nlp(row[\"ft\"]), nlp(row[\"tt\"])\n",
    "    sim =  d1.similarity(d2)\n",
    "    return sim\n",
    "\n",
    "agp = docs_augmented.Participant.value_counts().sort_values()\n",
    "di = docs_augmented.index[[p in set(agp.index[agp>1]) for p in docs_augmented.Participant]]\n",
    "di_map = pd.DataFrame(list(product(di, di)), columns=[\"f\", \"t\"])\n",
    "di_map = di_map[di_map.f>di_map.t]\n",
    "di_map[\"fn\"] = docs_augmented.loc[di_map.f].Participant.values\n",
    "di_map[\"tn\"] = docs_augmented.loc[di_map.t.values].Participant.values\n",
    "di_map[\"ft\"] = docs_augmented.loc[di_map.f.values].OutputChars.values\n",
    "di_map[\"tt\"] = docs_augmented.loc[di_map.t.values].OutputChars.values\n",
    "di_map =  di_map[di_map.fn==di_map.tn].reset_index(drop=True)\n",
    "di_map[\"similarity\"] = di_map.apply(get_sim, axis=1)\n",
    "fi = [i for i in docs_augmented.index if i not in set(di)] + \\\n",
    "    [r[1][\"f\"] for r in di_map.iterrows() if r[1][\"similarity\"]>=.97]\n",
    "docs_deduplicated = docs_augmented.loc[list(set(fi))]\n",
    "\n",
    "di_map[di_map.similarity>.94].sort_values(\"similarity\").head()"
   ]
  },
  {
   "cell_type": "code",
   "execution_count": 48,
   "metadata": {},
   "outputs": [],
   "source": [
    "def concat_docs(df):\n",
    "    rd = {}\n",
    "    rd[\"index\"] = np.min(df.index)\n",
    "    rd[\"OutputChars\"] = \" \".join(df[\"OutputChars\"])\n",
    "    return pd.Series(rd, index=rd.keys())\n",
    "\n",
    "sf = di_map.similarity<0.94\n",
    "\n",
    "coni = pd.concat([di_map[sf].f, di_map[sf].t]).reset_index(drop=True).values\n",
    "if len(coni)>0:\n",
    "    dg = docs_augmented.loc[coni].groupby(\"Participant\", as_index=False).apply(concat_docs).set_index(\"index\")\n",
    "else:\n",
    "    dg = pd.DataFrame(columns=[\"Participant\", \"OutputChars\"])\n",
    "docs_deduplicated = docs_deduplicated.append(\n",
    "    dg.merge(docs_augmented.loc[:,[c for c in docs_augmented.columns if c not in set(dg.columns)]],\n",
    "    left_index=True, right_index=True))"
   ]
  },
  {
   "cell_type": "code",
   "execution_count": 49,
   "metadata": {},
   "outputs": [
    {
     "data": {
      "text/plain": [
       "Participant                                               Akritas S.A.\n",
       "Sector                                                Forestry & Paper\n",
       "Country                                                         Greece\n",
       "Year                                                              2020\n",
       "Language                                                       english\n",
       "Link                 https://ungc-production.s3.us-west-2.amazonaws...\n",
       "EconomyType                                                   Advanced\n",
       "FileType                                                           pdf\n",
       "FileName                                     0264-2020-akritas-s-a.pdf\n",
       "FileTypeMagic                                          application/pdf\n",
       "ConversionStatus                                                   NaN\n",
       "ConvertedFileName                            0264-2020-akritas-s-a.pdf\n",
       "OCRStatus                                                            0\n",
       "OutputText           n q3 AKRITAS COMMUNICATION ON PROGRESS 2018 ——...\n",
       "OutputFileName       ../../data/text-reports/0264-2020-akritas-s-a.txt\n",
       "OutputChars          n q akritas communication on progress a s ae i...\n",
       "n_chars                                                          13986\n",
       "n_words                                                           2123\n",
       "n_sents                                                             98\n",
       "lang_est                                                            en\n",
       "lang_est_conf                                                 0.944972\n",
       "Name: 264, dtype: object"
      ]
     },
     "execution_count": 49,
     "metadata": {},
     "output_type": "execute_result"
    }
   ],
   "source": [
    "docs_deduplicated.loc[264]"
   ]
  },
  {
   "cell_type": "code",
   "execution_count": null,
   "metadata": {},
   "outputs": [],
   "source": [
    "#  the most frequent tokens\n",
    "from sklearn.feature_extraction.text import CountVectorizer\n",
    "tokvec = CountVectorizer(max_features=25, stop_words=\"english\",\n",
    "    min_df=50)\n",
    "token_counts = tokvec.fit_transform(docs_deduplicated.OutputChars)\n",
    "f, ax = plt.subplots(1,1,figsize=(7,7))\n",
    "pd.DataFrame(token_counts.toarray(), columns=tokvec.get_feature_names()).\\\n",
    "    sum().sort_values().plot(kind=\"barh\", ax=ax, logx=True);\n",
    "ax.set_ylabel(\"tokens\");\n",
    "ax.set_xlabel(\"freq\"); "
   ]
  },
  {
   "cell_type": "code",
   "execution_count": null,
   "metadata": {},
   "outputs": [],
   "source": [
    "import gc\n",
    "del tokvec, token_counts\n",
    "gc.collect()"
   ]
  },
  {
   "cell_type": "code",
   "execution_count": null,
   "metadata": {},
   "outputs": [],
   "source": [
    "# 1,2,3-grams\n",
    "gramvec = CountVectorizer(ngram_range=(1,3), stop_words=\"english\",\n",
    "   min_df=50, max_features=5000)\n",
    "gram_counts = gramvec.fit_transform(docs_augmented.OutputChars)\n",
    "gram_counts = pd.DataFrame(gram_counts.todense(),\n",
    "    columns=gramvec.get_feature_names())\n",
    "gram_counts = gram_counts.sum().reset_index()\n",
    "gram_counts.columns = [\"ngram\", \"frequency\"]\n",
    "gram_counts[\"n\"] = gram_counts.ngram.apply(lambda x: len(x.split(\" \")))\n",
    "\n",
    "f, axs = plt.subplots(1,3,figsize=(15,5))\n",
    "for ax, n in zip(axs, gram_counts.n.unique()):\n",
    "    gram_counts[gram_counts.n==n].sort_values(\"frequency\").tail(15).\\\n",
    "        plot(y=\"frequency\",x=\"ngram\", kind=\"barh\", ax=ax, legend=\"false\",\n",
    "        logx=True)\n",
    "    ax.set_title(str(n)+\"-gram\");\n",
    "    ax.set_ylabel(\"\");\n",
    "    ax.set_xlabel(\"frequency\");\n",
    "    ax.get_legend().remove();\n",
    "f.tight_layout()  "
   ]
  },
  {
   "cell_type": "code",
   "execution_count": null,
   "metadata": {},
   "outputs": [],
   "source": [
    "del gramvec, gram_counts\n",
    "gc.collect()"
   ]
  },
  {
   "cell_type": "code",
   "execution_count": null,
   "metadata": {},
   "outputs": [],
   "source": [
    "# upos\n",
    "def get_upos(text,i):\n",
    "    import spacy\n",
    "    \n",
    "    nlp =  spacy.load(\"en_core_web_lg\")\n",
    "    nlp.max_length = 1600000\n",
    "    parsed = nlp(text)\n",
    "    ls = [(i, t.text, t.lemma_, t.pos_, t.tag_, t.dep_,\n",
    "    t.shape_, t.is_alpha, t.is_stop) for t in parsed]\n",
    "    return pd.DataFrame(ls,\n",
    "        columns=[\"doc_id\",\"text\", \"lemma\", \"pos\", \"tag\",\n",
    "            \"dep\", \"shape\", \"is_alpha\", \"is_stopword\"])\n",
    "\n",
    "from joblib import Parallel, delayed\n",
    "upos_ls = Parallel(n_jobs=6)(delayed(get_upos)(docs_augmented.OutputChars.loc[i],i)\\\n",
    "    for i in docs_augmented.index)\n",
    "docs_upos = pd.concat(upos_ls)\n",
    "\n",
    "# common ones\n",
    "docs_upos.pos.value_counts().sort_values().tail(5)"
   ]
  },
  {
   "cell_type": "code",
   "execution_count": null,
   "metadata": {},
   "outputs": [],
   "source": [
    "# barh noun, verb, adj\n",
    "upos_subset = [\"NOUN\", \"VERB\",\"ADJ\"]\n",
    "f, axs = plt.subplots(1,3,figsize=(17,5))\n",
    "for ax, up in zip(axs, upos_subset):\n",
    "    docs_upos[docs_upos.pos==up].lemma.value_counts().sort_values().tail(15).\\\n",
    "        plot(kind=\"barh\", ax=ax, legend=\"false\")\n",
    "    ax.set_title(up)\n",
    "    ax.set_xlabel(\"frequency\");\n",
    "    ax.get_legend().remove()\n",
    "f.tight_layout()"
   ]
  },
  {
   "cell_type": "code",
   "execution_count": null,
   "metadata": {},
   "outputs": [],
   "source": [
    "uf = (docs_upos.pos.isin([\"NOUN\", \"VERB\", \"ADJ\"])) & (np.logical_not(docs_upos.is_stopword)) & (docs_upos.lemma.str.len()>2) &\\\n",
    "    (docs_upos.text.str.len()<51)\n",
    "docs_reconstructed = docs_upos[uf].groupby(\"doc_id\").\\\n",
    "    apply(lambda x: \" \".join(x[\"lemma\"]))\n",
    "docs_reconstructed=docs_deduplicated.merge(pd.DataFrame(docs_reconstructed,\n",
    "    columns=[\"ReconstructedChars\"]), how=\"inner\", left_index=True, right_index=True)\n",
    "del docs_deduplicated, docs_upos\n",
    "gc.collect()"
   ]
  },
  {
   "cell_type": "code",
   "execution_count": null,
   "metadata": {},
   "outputs": [],
   "source": [
    "docs_reconstructed.to_csv(\"../../data/docs-reconstructed.csv\")\n",
    "docs_reconstructed.head(5)"
   ]
  },
  {
   "cell_type": "code",
   "execution_count": null,
   "metadata": {},
   "outputs": [],
   "source": [
    "# rake - example\n",
    "import spacy\n",
    "from rake_spacy import Rake\n",
    "def filter_tokens(token):\n",
    "    return (token.is_stop or token.is_space or token.is_punct) and not (token.like_num)\\\n",
    "        and (token.pos_ not in [\"ADJ\", \"VERB\", \"NOUN\"]) and (len(token.text)<2)\n",
    "rake = Rake(nlp=spacy.load(\"en_core_web_lg\"), min_length=2, max_length=5,\n",
    "    stop_token_class=filter_tokens)\n",
    "rake.apply(docs_augmented.OutputChars[0])[:10]"
   ]
  },
  {
   "cell_type": "code",
   "execution_count": null,
   "metadata": {},
   "outputs": [],
   "source": [
    "# coocurence\n",
    "import numpy as np\n",
    "from sklearn.feature_extraction.text import TfidfVectorizer, CountVectorizer\n",
    "coovec = TfidfVectorizer(stop_words=\"english\",\n",
    "    ngram_range=(1,1), max_features=1000)\n",
    "coo_w = coovec.fit_transform(docs_reconstructed.ReconstructedChars)\n",
    "tokens = coovec.get_feature_names()\n",
    "#coo_f[coo_f>0]=1\n",
    "coo_w = coo_w.T.dot(coo_w)\n",
    "coo_w = np.triu(coo_w.todense(), k=1)\n",
    "from itertools import combinations\n",
    "edges = list(combinations(range(coo_w.shape[0]),2))\n",
    "ind0, ind1 = [e[0] for e in edges], [e[1] for e in edges]\n",
    "freq = coo_w[ind0,ind1]\n",
    "coo_counts = pd.DataFrame(columns=[\"from\", \"to\", \"weight\"])\n",
    "coo_counts[\"from\"], coo_counts[\"to\"]  = [tokens[i]for i in ind0], [tokens[i]for i in ind1]\n",
    "coo_counts[\"weight\"] = freq\n",
    "coo_counts.sort_values(\"weight\").tail(15)"
   ]
  },
  {
   "cell_type": "code",
   "execution_count": null,
   "metadata": {},
   "outputs": [],
   "source": [
    "# networkx\n",
    "import networkx as nx\n",
    "net = nx.convert_matrix.from_pandas_edgelist(coo_counts.sort_values(\"weight\").tail(100),\n",
    "    source=\"from\", target=\"to\", edge_attr=\"weight\")\n",
    "f,ax = plt.subplots(1,1,figsize=(15, 10))\n",
    "pos = nx.spring_layout(net, seed=1, iterations=100)\n",
    "nx.draw_networkx_labels(net, pos, font_size=12,\n",
    "    font_family=\"sans-serif\", alpha=1, ax=ax);\n",
    "nx.draw_networkx_edges(net, width=[net[u][v]['weight']*.5 for u,v in net.edges()],\n",
    "    pos=pos, alpha=.1);"
   ]
  },
  {
   "cell_type": "code",
   "execution_count": null,
   "metadata": {},
   "outputs": [],
   "source": [
    "def plot_top_words(model, feature_names, n_top_words, title):\n",
    "    import matplotlib.pyplot as plt\n",
    "    \n",
    "    fig, axes = plt.subplots(3, 5, figsize=(15, 10))\n",
    "    axes = axes.flatten()\n",
    "    for topic_idx, topic in enumerate(model.components_):\n",
    "        top_features_ind = topic.argsort()[:-n_top_words - 1:-1]\n",
    "        top_features = [feature_names[i] for i in top_features_ind]\n",
    "        weights = topic[top_features_ind]\n",
    "\n",
    "        ax = axes[topic_idx]\n",
    "        ax.barh(top_features, weights, height=0.7)\n",
    "        ax.set_title(f'Topic {topic_idx +1}',\n",
    "            fontdict={'fontsize': 12})\n",
    "        ax.invert_yaxis()\n",
    "        ax.tick_params(axis='both', which='major', labelsize=10)\n",
    "        for i in 'top right left'.split():\n",
    "            ax.spines[i].set_visible(False)\n",
    "        fig.suptitle(title, fontsize=14)\n",
    "    plt.subplots_adjust(top=0.90, bottom=0.05, wspace=0.90, hspace=0.3)\n",
    "    plt.show()"
   ]
  },
  {
   "cell_type": "code",
   "execution_count": null,
   "metadata": {},
   "outputs": [],
   "source": [
    "# lda topics\n",
    "from sklearn.decomposition import LatentDirichletAllocation\n",
    "dims = [\"Advanced\", \"Developing\"]\n",
    "\n",
    "for dim in dims:\n",
    "    df = docs_reconstructed.EconomyType==dim\n",
    "    tfidfvec = TfidfVectorizer(min_df=50, max_features=5000)\n",
    "    tfidf_counts = tfidfvec.fit_transform(docs_reconstructed[df].ReconstructedChars)\n",
    "    lda = LatentDirichletAllocation(n_components=15, max_iter=10,\n",
    "        learning_method='online', learning_offset=50., random_state=0)\n",
    "    lda.fit(tfidf_counts)\n",
    "    plot_top_words(lda, tfidfvec.get_feature_names(), 5, \"Topics in LDA model: \"+dim.lower()+\" economies\")"
   ]
  }
 ],
 "metadata": {
  "interpreter": {
   "hash": "9e6255f42a0ba260834f18bd8f97cae298885bfee9b81baa7cf63f030f508208"
  },
  "kernelspec": {
   "display_name": "Python 3.8.10 64-bit ('env': venv)",
   "name": "python3"
  },
  "language_info": {
   "codemirror_mode": {
    "name": "ipython",
    "version": 3
   },
   "file_extension": ".py",
   "mimetype": "text/x-python",
   "name": "python",
   "nbconvert_exporter": "python",
   "pygments_lexer": "ipython3",
   "version": "3.8.10"
  },
  "orig_nbformat": 4
 },
 "nbformat": 4,
 "nbformat_minor": 2
}
